{
  "nbformat": 4,
  "nbformat_minor": 0,
  "metadata": {
    "colab": {
      "name": "first_pytorch_example.ipynb",
      "provenance": [],
      "authorship_tag": "ABX9TyN/0wZ0OcAYscA9JvcbBSlB",
      "include_colab_link": true
    },
    "kernelspec": {
      "name": "python3",
      "display_name": "Python 3"
    },
    "accelerator": "GPU"
  },
  "cells": [
    {
      "cell_type": "markdown",
      "metadata": {
        "id": "view-in-github",
        "colab_type": "text"
      },
      "source": [
        "<a href=\"https://colab.research.google.com/github/georgakd/various/blob/master/first_pytorch_example.ipynb\" target=\"_parent\"><img src=\"https://colab.research.google.com/assets/colab-badge.svg\" alt=\"Open In Colab\"/></a>"
      ]
    },
    {
      "cell_type": "code",
      "metadata": {
        "id": "SPjfdqZo42FC",
        "colab_type": "code",
        "colab": {
          "base_uri": "https://localhost:8080/",
          "height": 102
        },
        "outputId": "04961be8-8818-43e6-8eb5-a088f7612426"
      },
      "source": [
        "import torch\n",
        "x = torch.rand(5, 3)\n",
        "print(x)"
      ],
      "execution_count": 2,
      "outputs": [
        {
          "output_type": "stream",
          "text": [
            "tensor([[0.8446, 0.5280, 0.4515],\n",
            "        [0.7048, 0.7316, 0.0041],\n",
            "        [0.7445, 0.3942, 0.3638],\n",
            "        [0.5824, 0.8206, 0.7233],\n",
            "        [0.9808, 0.2356, 0.6881]])\n"
          ],
          "name": "stdout"
        }
      ]
    }
  ]
}